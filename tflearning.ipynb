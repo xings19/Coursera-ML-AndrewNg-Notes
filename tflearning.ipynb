{
  "nbformat": 4,
  "nbformat_minor": 0,
  "metadata": {
    "colab": {
      "name": "“欢迎使用 Colaboratory”的副本",
      "provenance": [],
      "collapsed_sections": [],
      "include_colab_link": true
    },
    "kernelspec": {
      "display_name": "Python 3",
      "name": "python3"
    }
  },
  "cells": [
    {
      "cell_type": "markdown",
      "metadata": {
        "id": "view-in-github",
        "colab_type": "text"
      },
      "source": [
        "<a href=\"https://colab.research.google.com/github/xings19/Coursera-ML-AndrewNg-Notes/blob/master/tflearning.ipynb\" target=\"_parent\"><img src=\"https://colab.research.google.com/assets/colab-badge.svg\" alt=\"Open In Colab\"/></a>"
      ]
    },
    {
      "cell_type": "code",
      "metadata": {
        "id": "0saedrYqNnlz",
        "colab": {
          "base_uri": "https://localhost:8080/"
        },
        "outputId": "27e97e34-bb7c-4360-f729-91b43b1307af"
      },
      "source": [
        "import tensorflow as tf\r\n",
        "print(tf.__version__)"
      ],
      "execution_count": 15,
      "outputs": [
        {
          "output_type": "stream",
          "text": [
            "2.4.0\n"
          ],
          "name": "stdout"
        }
      ]
    },
    {
      "cell_type": "code",
      "metadata": {
        "id": "wpNUE5iDN0xI",
        "colab": {
          "base_uri": "https://localhost:8080/"
        },
        "outputId": "772655c9-5573-48db-8617-ceb7ec9a5bbb"
      },
      "source": [
        "import tensorflow as tf\r\n",
        "random_float = tf.random.uniform(shape=(3,3))\r\n",
        "print(random_float)"
      ],
      "execution_count": 3,
      "outputs": [
        {
          "output_type": "stream",
          "text": [
            "tf.Tensor(\n",
            "[[0.78635097 0.32468438 0.99661136]\n",
            " [0.23080838 0.30224216 0.211007  ]\n",
            " [0.06246531 0.97956336 0.5128026 ]], shape=(3, 3), dtype=float32)\n"
          ],
          "name": "stdout"
        }
      ]
    },
    {
      "cell_type": "markdown",
      "metadata": {
        "id": "C4X_bQqzPzQr"
      },
      "source": [
        "```python\r\n",
        "tf.random.uniform(\r\n",
        "    shape, minval=0, maxval=None, dtype=tf.dtypes.float32, seed=None, name=None\r\n",
        ")\r\n",
        "```\r\n",
        "此函数可以生成随机数，minval和maxval分别为上下界。seed为随机数种子。\r\n",
        "\r\n",
        "\r\n"
      ]
    },
    {
      "cell_type": "markdown",
      "metadata": {
        "id": "w-6p55cJRA0O"
      },
      "source": [
        "下面列举一些常用的操作："
      ]
    },
    {
      "cell_type": "code",
      "metadata": {
        "colab": {
          "base_uri": "https://localhost:8080/"
        },
        "id": "V8BJgao1RINC",
        "outputId": "b3d5469c-e84b-4dd2-a98a-da16e747c01b"
      },
      "source": [
        "import tensorflow as tf\r\n",
        "A = tf.constant([[1., 2.], [3., 4.]])\r\n",
        "B = tf.constant([[5., 6.], [7., 8.]])##创建A\\B两个常量矩阵（张量）\r\n",
        "C = tf.add(A,B)\r\n",
        "D = tf.matmul(A,B)\r\n",
        "print(C)\r\n",
        "print(D)"
      ],
      "execution_count": 9,
      "outputs": [
        {
          "output_type": "stream",
          "text": [
            "tf.Tensor(\n",
            "[[ 6.  8.]\n",
            " [10. 12.]], shape=(2, 2), dtype=float32)\n",
            "tf.Tensor(\n",
            "[[19. 22.]\n",
            " [43. 50.]], shape=(2, 2), dtype=float32)\n"
          ],
          "name": "stdout"
        }
      ]
    },
    {
      "cell_type": "markdown",
      "metadata": {
        "id": "MCzecV19R_0W"
      },
      "source": [
        "很显然add为矩阵加法，matmul为矩阵乘法，经过测试，**matmul为严格的矩阵乘法**"
      ]
    },
    {
      "cell_type": "code",
      "metadata": {
        "colab": {
          "base_uri": "https://localhost:8080/"
        },
        "id": "_dzLhYAaRjZQ",
        "outputId": "70592c0f-67fe-4cc6-de1a-5102eaf9a83c"
      },
      "source": [
        "import tensorflow as tf\r\n",
        "x = tf.constant(3,dtype=tf.float32)\r\n",
        "print(x)\r\n",
        "x = tf.Variable(initial_value=3.)\r\n",
        "print(x)\r\n",
        "with tf.GradientTape() as tape:\r\n",
        "  y = tf.square(x)\r\n",
        "y_grad = tape.gradient(y,x)\r\n",
        "print(y,y_grad)"
      ],
      "execution_count": 14,
      "outputs": [
        {
          "output_type": "stream",
          "text": [
            "tf.Tensor(3.0, shape=(), dtype=float32)\n",
            "<tf.Variable 'Variable:0' shape=() dtype=float32, numpy=3.0>\n",
            "tf.Tensor(9.0, shape=(), dtype=float32) tf.Tensor(6.0, shape=(), dtype=float32)\n"
          ],
          "name": "stdout"
        }
      ]
    },
    {
      "cell_type": "markdown",
      "metadata": {
        "id": "aBofY4mJTuEA"
      },
      "source": [
        "这段代码展示了tf的自动求导机制，在tf.GradientTape()之下进行的计算步骤都可以用于求导，注意这里的x不再是一个单纯的tensor，这里的x相当于是一个变量，经过测试，这个无法对张量进行求导，但是可以对变量进行求导，因此在求导的时候应该使用变量。"
      ]
    },
    {
      "cell_type": "code",
      "metadata": {
        "colab": {
          "base_uri": "https://localhost:8080/"
        },
        "id": "HgIkG4jua7CD",
        "outputId": "f837ccdc-7fb4-4249-a477-b7cfdb36e0fd"
      },
      "source": [
        "import tensorflow as tf\r\n",
        "x = tf.constant([[1. ,2.],[3. ,4.]])\r\n",
        "y = tf.constant([[1],[2]],dtype=tf.float32)\r\n",
        "w = tf.Variable(initial_value=[[1.],[2.]])\r\n",
        "b = tf.Variable(initial_value=1.)\r\n",
        "with tf.GradientTape() as tape:\r\n",
        "  L = tf.reduce_sum(tf.square(tf.matmul(x,w)+b-y))\r\n",
        "w_grad,b_grad = tape.gradient(L,[w,b])\r\n",
        "print(w_grad,b_grad)\r\n"
      ],
      "execution_count": 20,
      "outputs": [
        {
          "output_type": "stream",
          "text": [
            "tf.Tensor(\n",
            "[[ 70.]\n",
            " [100.]], shape=(2, 1), dtype=float32) tf.Tensor(30.0, shape=(), dtype=float32)\n"
          ],
          "name": "stdout"
        }
      ]
    },
    {
      "cell_type": "markdown",
      "metadata": {
        "id": "lm6oPa0HffFk"
      },
      "source": [
        "上面展示了求偏导，在深度学习中常用。注意这个里面的数据类型应该是float32，但是每次在一个数字后面加小数点都过于麻烦，所以可以考虑在数字较多的地方加上**dtype = tf.float32**"
      ]
    },
    {
      "cell_type": "code",
      "metadata": {
        "id": "QSIfg77OfIUS"
      },
      "source": [
        ""
      ],
      "execution_count": null,
      "outputs": []
    }
  ]
}